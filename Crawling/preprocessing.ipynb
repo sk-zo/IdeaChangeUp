{
 "cells": [
  {
   "cell_type": "code",
   "execution_count": null,
   "metadata": {},
   "outputs": [],
   "source": [
    "import pickle\n",
    "import pandas as pd"
   ]
  },
  {
   "cell_type": "code",
   "execution_count": null,
   "metadata": {},
   "outputs": [],
   "source": [
    "with open('../Crawler/raw_dataset', 'rb') as f:\n",
    "    raw_dataset = pickle.load(f)"
   ]
  },
  {
   "cell_type": "code",
   "execution_count": null,
   "metadata": {},
   "outputs": [],
   "source": [
    "preprocessed_dataset = []\n",
    "\n",
    "for i, raw in enumerate(raw_dataset):\n",
    "    for j in range(len(raw[0])):\n",
    "        id = raw[0][j].split('>')[1].split(' ')[0]\n",
    "        title = raw[1][j].split('>')[1].split('<')[0]\n",
    "        abs = raw[2][j].strip()\n",
    "        data = {'id':id, 'title':title, 'abs':abs, 'ipc':i}\n",
    "        if len(id)==0 or len(title)==0 or len(abs)==0:\n",
    "            continue\n",
    "        preprocessed_dataset.append(data)"
   ]
  },
  {
   "cell_type": "code",
   "execution_count": null,
   "metadata": {},
   "outputs": [],
   "source": [
    "df = pd.DataFrame(preprocessed_dataset)\n",
    "df = df.drop_duplicates(['id'], keep='first')"
   ]
  },
  {
   "cell_type": "code",
   "execution_count": null,
   "metadata": {},
   "outputs": [],
   "source": [
    "df.to_csv('patent.csv', encoding='utf-8')"
   ]
  },
  {
   "cell_type": "code",
   "execution_count": null,
   "metadata": {},
   "outputs": [],
   "source": [
    "preprocessed_dataset = df.to_dict('records')\n",
    "\n",
    "with open('preprocessed_dataset', 'wb') as f:\n",
    "    pickle.dump(preprocessed_dataset, f)"
   ]
  }
 ],
 "metadata": {
  "kernelspec": {
   "display_name": "Python 3.8.13 ('conv1')",
   "language": "python",
   "name": "python3"
  },
  "language_info": {
   "codemirror_mode": {
    "name": "ipython",
    "version": 3
   },
   "file_extension": ".py",
   "mimetype": "text/x-python",
   "name": "python",
   "nbconvert_exporter": "python",
   "pygments_lexer": "ipython3",
   "version": "3.8.13"
  },
  "orig_nbformat": 4,
  "vscode": {
   "interpreter": {
    "hash": "4f91c11da4d486b7006871e7c09a7f928013b4ea80b450042607a5834669edc3"
   }
  }
 },
 "nbformat": 4,
 "nbformat_minor": 2
}
